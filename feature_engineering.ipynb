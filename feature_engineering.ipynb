{
 "cells": [
  {
   "cell_type": "code",
   "execution_count": 1,
   "id": "a1b404e0",
   "metadata": {},
   "outputs": [],
   "source": [
    "import pandas as pd\n",
    "import numpy as np\n",
    "from sklearn.preprocessing import StandardScaler, LabelEncoder\n",
    "from sklearn.cluster import KMeans"
   ]
  },
  {
   "cell_type": "code",
   "execution_count": 2,
   "id": "cfa3cc46",
   "metadata": {},
   "outputs": [],
   "source": [
    "from sklearn.feature_selection import SelectFromModel\n",
    "from catboost import CatBoostRegressor\n",
    "from sklearn.model_selection import train_test_split"
   ]
  },
  {
   "cell_type": "code",
   "execution_count": 3,
   "id": "6cb67a1c",
   "metadata": {},
   "outputs": [],
   "source": [
    "\n",
    "#Feature engineering\n",
    "# load cleaned data\n",
    "train1 = pd.read_csv('train_cleaned_knn.csv',keep_default_na=False).set_index('Id') \n",
    "#keep_default_na=False to avoid NaN issues, important\n",
    "#set_index('Id') to exclude id column, important\n",
    "test1 = pd.read_csv('test_cleaned_knn.csv',keep_default_na=False).set_index('Id') \n",
    "#keep_default_na=False to avoid NaN issues, important\n",
    "#set_index('Id') to exclude id column, important\n",
    "\n",
    "# combine datasets for feature engineering consistency\n",
    "train1['is_train'] = 1\n",
    "test1['is_train'] = 0\n",
    "combined = pd.concat([train1.drop('SalePrice', axis=1), test1], axis=0)\n"
   ]
  },
  {
   "cell_type": "code",
   "execution_count": 4,
   "id": "7974d64a",
   "metadata": {},
   "outputs": [],
   "source": [
    "# 1. create new features\n",
    "# total area (above ground + basement)\n",
    "combined['TotalSF'] = combined['TotalBsmtSF'] + combined['1stFlrSF'] + combined['2ndFlrSF']\n",
    "\n",
    "# house age (year sold - year built)\n",
    "combined['HouseAge'] = combined['YrSold'] - combined['YearBuilt']\n",
    "\n",
    "# renewal age (year sold - year remodeled)\n",
    "combined['RemodAge'] = combined['YrSold'] - combined['YearRemodAdd']\n",
    "\n",
    "# total bathroom count (above ground + basement)\n",
    "combined['TotalBath'] = combined['FullBath'] + 0.5 * combined['HalfBath'] + \\\n",
    "                       combined['BsmtFullBath'] + 0.5 * combined['BsmtHalfBath']\n",
    "\n",
    "# total rooms (excluding bathrooms)\n",
    "combined['TotalRooms'] = combined['TotRmsAbvGrd'] + combined['BedroomAbvGr']\n",
    "\n",
    "# garage age (if no garage, fill 0)\n",
    "combined['GarageAge'] = combined['YrSold'] - combined['GarageYrBlt'].fillna(0)\n",
    "\n",
    "# swimming pool, fence, miscellaneous features\n",
    "combined['HasPool'] = combined['PoolArea'].apply(lambda x: 1 if x > 0 else 0)\n",
    "combined['HasFence'] = combined['Fence'].apply(lambda x: 1 if x != 'None' else 0)\n",
    "combined['HasMisc'] = combined['MiscFeature'].apply(lambda x: 1 if x != 'None' else 0)\n",
    "\n",
    "# additional features\n",
    "combined['SF_Qual'] = combined['TotalSF'] * combined['OverallQual']\n",
    "combined['LivArea_Bedroom'] = combined['GrLivArea'] * combined['BedroomAbvGr']\n",
    "\n",
    "# financial crisis feature\n",
    "combined['beforeCrisis'] = (((combined['YrSold'] < 2007) | ((combined['YrSold'] == 2007) & combined['MoSold'] < 8))).astype(int)\n",
    "combined['inCrisis'] = (((combined['YrSold'] >= 2007) & (combined['MoSold'] >= 8)) | ((combined['YrSold'] <= 2008) & (combined['MoSold'] <= 9 ))).astype(int)\n",
    "combined['afterCrisis'] = (((combined['YrSold'] >= 2009) | ((combined['YrSold'] == 2008) & combined['MoSold'] > 9))).astype(int)\n",
    "\n",
    "# season feature\n",
    "def get_season(month):\n",
    "    if month in [3, 4, 5]: return 'Spring'\n",
    "    elif month in [6, 7, 8]: return 'Summer'\n",
    "    elif month in [9, 10, 11]: return 'Fall'\n",
    "    else: return 'Winter'\n",
    "combined['Season'] = combined['MoSold'].apply(get_season)\n"
   ]
  },
  {
   "cell_type": "code",
   "execution_count": 5,
   "id": "2326f520",
   "metadata": {},
   "outputs": [
    {
     "data": {
      "text/plain": [
       "array(['None', 'TA', 'Gd', 'Fa', 'Ex', 'Po'], dtype=object)"
      ]
     },
     "execution_count": 5,
     "metadata": {},
     "output_type": "execute_result"
    }
   ],
   "source": [
    "combined['FireplaceQu'].nunique()\n",
    "combined['FireplaceQu'].unique()"
   ]
  },
  {
   "cell_type": "code",
   "execution_count": 6,
   "id": "4e17a26d",
   "metadata": {},
   "outputs": [
    {
     "data": {
      "text/plain": [
       "array(['Gd', 'TA', 'Ex', 'Fa'], dtype=object)"
      ]
     },
     "execution_count": 6,
     "metadata": {},
     "output_type": "execute_result"
    }
   ],
   "source": [
    "combined['ExterQual'].unique()"
   ]
  },
  {
   "cell_type": "code",
   "execution_count": 7,
   "id": "736fd1fc",
   "metadata": {},
   "outputs": [],
   "source": [
    "# 2. categorical encoding\n",
    "# ordinal variable mapping\n",
    "ordinal_cols = ['ExterQual', 'ExterCond', 'BsmtQual', 'BsmtCond', 'HeatingQC', \n",
    "                'KitchenQual', 'FireplaceQu', 'GarageQual', 'GarageCond', \n",
    "                'BsmtExposure', 'Functional','PoolQC']\n",
    "quality_map = {'Ex': 5, 'Gd': 4, 'TA': 3, 'Fa': 2, 'Po': 1, 'None': 0, 'NA': 0 }\n",
    "bsmt_exposure_map = {'Gd': 4, 'Av': 3, 'Mn': 2, 'No': 1,  'NA': 0}\n",
    "functional_map = {'Typ': 8, 'Min1': 7, 'Min2': 6, 'Mod': 5, 'Maj1': 4, \n",
    "                  'Maj2': 3, 'Sev': 2, 'Sal': 1}\n",
    "PoolQC_map = {'Ex': 4, 'Gd': 3, 'TA': 2, 'Fa': 1, 'None': 0}\n",
    "for col in ordinal_cols:\n",
    "    if col == 'BsmtExposure':\n",
    "        combined[col] = combined[col].map(bsmt_exposure_map)\n",
    "    elif col == 'Functional':\n",
    "        combined[col] = combined[col].map(functional_map)\n",
    "    elif col == 'PoolQC':\n",
    "        combined[col] = combined[col].map(PoolQC_map)\n",
    "    else:\n",
    "        combined[col] = combined[col].map(quality_map)"
   ]
  },
  {
   "cell_type": "code",
   "execution_count": 8,
   "id": "3800485f",
   "metadata": {},
   "outputs": [
    {
     "name": "stdout",
     "output_type": "stream",
     "text": [
      "New features created: ['TotalSF', 'HouseAge', 'RemodAge', 'TotalBath', 'TotalRooms', 'GarageAge', 'HasPool', 'HasFence', 'HasMisc', 'SF_Qual', 'LivArea_Bedroom', 'Neighborhood_MeanPrice', 'Season', 'Cluster', 'beforeCrisis', 'inCrisis', 'afterCrisis']\n",
      "Train processed shape: (1456, 94)\n",
      "Test processed shape: (1459, 93)\n",
      "Missing values in train: 0\n",
      "Missing values in test: 0\n"
     ]
    }
   ],
   "source": [
    "# label encoding \n",
    "nominal_cols = ['MSZoning', 'Street', 'Alley', 'LotShape', 'LandContour', 'Utilities', \n",
    "                'LotConfig', 'LandSlope', 'Neighborhood', 'Condition1', 'Condition2', \n",
    "                'BldgType', 'HouseStyle', 'RoofStyle', 'RoofMatl', 'Exterior1st', \n",
    "                'Exterior2nd', 'MasVnrType', 'Foundation', 'BsmtFinType1', \n",
    "                'BsmtFinType2', 'Heating', 'CentralAir', 'Electrical', 'GarageType', \n",
    "                'GarageFinish', 'PavedDrive', 'Fence', 'MiscFeature', 'SaleType', \n",
    "                'SaleCondition', 'Season']\n",
    "label_encoders = {}\n",
    "for col in nominal_cols:\n",
    "    le = LabelEncoder()\n",
    "    combined[col] = le.fit_transform(combined[col])\n",
    "    label_encoders[col] = le\n",
    "\n",
    "# encoding Neighborhood\n",
    "neighborhood_mean = train1.groupby('Neighborhood')['SalePrice'].mean()\n",
    "combined['Neighborhood_MeanPrice'] = combined['Neighborhood'].map(neighborhood_mean)\n",
    "combined['Neighborhood_MeanPrice'] = combined['Neighborhood_MeanPrice'].fillna(neighborhood_mean.mean())\n",
    "\n",
    "# 3. clustering\n",
    "cluster_features = ['TotalSF', 'OverallQual', 'GrLivArea']\n",
    "kmeans = KMeans(n_clusters=5, random_state=42)\n",
    "combined['Cluster'] = kmeans.fit_predict(combined[cluster_features])\n",
    "\n",
    "# 4. delete low information columns\n",
    "low_info_cols = ['LowQualFinSF', 'MiscVal', 'PoolArea']\n",
    "combined = combined.drop(low_info_cols, axis=1)\n",
    "\n",
    "# 5. deal with skewness\n",
    "# log transform SalePrice\n",
    "train1['SalePrice'] = np.log1p(train1['SalePrice'])\n",
    "\n",
    "# transform skewed numeric features when skewness > 0.75\n",
    "colums_to_drop = ['is_train', 'beforeCrisis', 'inCrisis', 'afterCrisis'] + nominal_cols\n",
    "numeric_cols = combined.select_dtypes(include=[np.number]).columns.drop(colums_to_drop)\n",
    "skewed_cols = combined[numeric_cols].apply(lambda x: x.skew()).sort_values(ascending=False)\n",
    "skewed_cols = skewed_cols[abs(skewed_cols) > 0.75].index\n",
    "for col in skewed_cols:\n",
    "    combined[col] = np.log1p(combined[col].clip(lower=0))\n",
    "\n",
    "# 6. standardize numeric features\n",
    "scaler = StandardScaler()\n",
    "combined[numeric_cols] = scaler.fit_transform(combined[numeric_cols])\n",
    "\n",
    "# 7. separate train and test sets\n",
    "train_processed = combined[combined['is_train'] == 1].drop('is_train', axis=1)\n",
    "test_processed = combined[combined['is_train'] == 0].drop('is_train', axis=1)\n",
    "train_processed['SalePrice'] = train1['SalePrice']\n",
    "\n",
    "# 8. validate feature engineering\n",
    "print(\"New features created:\", ['TotalSF', 'HouseAge', 'RemodAge', 'TotalBath', \n",
    "                              'TotalRooms', 'GarageAge', 'HasPool', 'HasFence', \n",
    "                              'HasMisc', 'SF_Qual', 'LivArea_Bedroom', \n",
    "                              'Neighborhood_MeanPrice', 'Season', 'Cluster',\n",
    "                              'beforeCrisis','inCrisis','afterCrisis'])\n",
    "print(\"Train processed shape:\", train_processed.shape)\n",
    "print(\"Test processed shape:\", test_processed.shape)\n",
    "print(\"Missing values in train:\", train_processed.isnull().sum().max())\n",
    "print(\"Missing values in test:\", test_processed.isnull().sum().max())\n",
    "\n",
    "# save processed data\n",
    "train_processed.to_csv('train_processed.csv', index=False)\n",
    "test_processed.to_csv('test_processed.csv', index=False)"
   ]
  },
  {
   "cell_type": "code",
   "execution_count": 9,
   "id": "34bdc470",
   "metadata": {},
   "outputs": [
    {
     "name": "stdout",
     "output_type": "stream",
     "text": [
      "MSSubClass     0\n",
      "MSZoning       0\n",
      "LotFrontage    0\n",
      "LotArea        0\n",
      "Street         0\n",
      "dtype: int64\n"
     ]
    }
   ],
   "source": [
    "print(train_processed.isnull().sum().sort_values(ascending=False).head(5))"
   ]
  },
  {
   "cell_type": "code",
   "execution_count": 10,
   "id": "d71d5449",
   "metadata": {},
   "outputs": [
    {
     "name": "stdout",
     "output_type": "stream",
     "text": [
      "MSSubClass     0\n",
      "MSZoning       0\n",
      "LotFrontage    0\n",
      "LotArea        0\n",
      "Street         0\n",
      "dtype: int64\n"
     ]
    }
   ],
   "source": [
    "print(test_processed.isnull().sum().sort_values(ascending=False).head(5))"
   ]
  }
 ],
 "metadata": {
  "kernelspec": {
   "display_name": "Python 3",
   "language": "python",
   "name": "python3"
  },
  "language_info": {
   "codemirror_mode": {
    "name": "ipython",
    "version": 3
   },
   "file_extension": ".py",
   "mimetype": "text/x-python",
   "name": "python",
   "nbconvert_exporter": "python",
   "pygments_lexer": "ipython3",
   "version": "3.13.1"
  }
 },
 "nbformat": 4,
 "nbformat_minor": 5
}
